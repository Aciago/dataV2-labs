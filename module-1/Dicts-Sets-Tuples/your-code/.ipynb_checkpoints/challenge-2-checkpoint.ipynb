{
 "cells": [
  {
   "cell_type": "markdown",
   "metadata": {},
   "source": [
    "## Challenge 2: Sets\n",
    "\n",
    "There are a lot to learn about Python Sets and the information presented in the lesson is limited due to its length. To learn Python Sets in depth you are strongly encouraged to review the W3Schools tutorial on [Python Sets Examples and Methods](https://www.w3schools.com/python/python_sets.asp) before you work on this lab. Some difficult questions in this lab have their solutions in the W3Schools tutorial.\n",
    "\n",
    "#### First, import the Python `random` library."
   ]
  },
  {
   "cell_type": "code",
   "execution_count": 94,
   "metadata": {},
   "outputs": [],
   "source": [
    "import random"
   ]
  },
  {
   "cell_type": "markdown",
   "metadata": {},
   "source": [
    "#### In the cell below, create a list named `sample_list_1` with 80 random values. \n",
    "\n",
    "Requirements:\n",
    "\n",
    "* Each value is an integer falling between 0 and 100.\n",
    "* Each value in the list is unique.\n",
    "\n",
    "Print `sample_list_1` to review its values\n",
    "\n",
    "*Hint: use `random.sample` ([reference](https://docs.python.org/3/library/random.html#random.sample)).*"
   ]
  },
  {
   "cell_type": "code",
   "execution_count": 95,
   "metadata": {},
   "outputs": [
    {
     "data": {
      "text/plain": [
       "[86,\n",
       " 29,\n",
       " 81,\n",
       " 6,\n",
       " 32,\n",
       " 100,\n",
       " 17,\n",
       " 68,\n",
       " 74,\n",
       " 25,\n",
       " 26,\n",
       " 19,\n",
       " 8,\n",
       " 66,\n",
       " 67,\n",
       " 54,\n",
       " 33,\n",
       " 49,\n",
       " 48,\n",
       " 75,\n",
       " 53,\n",
       " 73,\n",
       " 4,\n",
       " 85,\n",
       " 77,\n",
       " 45,\n",
       " 70,\n",
       " 50,\n",
       " 93,\n",
       " 43,\n",
       " 30,\n",
       " 99,\n",
       " 84,\n",
       " 64,\n",
       " 5,\n",
       " 57,\n",
       " 58,\n",
       " 91,\n",
       " 16,\n",
       " 61,\n",
       " 3,\n",
       " 76,\n",
       " 69,\n",
       " 21,\n",
       " 47,\n",
       " 13,\n",
       " 52,\n",
       " 95,\n",
       " 82,\n",
       " 36,\n",
       " 72,\n",
       " 11,\n",
       " 56,\n",
       " 59,\n",
       " 87,\n",
       " 92,\n",
       " 12,\n",
       " 40,\n",
       " 15,\n",
       " 90,\n",
       " 1,\n",
       " 2,\n",
       " 98,\n",
       " 65,\n",
       " 51,\n",
       " 27,\n",
       " 96,\n",
       " 9,\n",
       " 22,\n",
       " 37,\n",
       " 23,\n",
       " 28,\n",
       " 55,\n",
       " 46,\n",
       " 94,\n",
       " 62,\n",
       " 14,\n",
       " 60,\n",
       " 35,\n",
       " 80]"
      ]
     },
     "execution_count": 95,
     "metadata": {},
     "output_type": "execute_result"
    }
   ],
   "source": [
    "sample_list_1=[]\n",
    "\n",
    "#for i in range(80):\n",
    "#    sample_list_1.append(i)\n",
    "    \n",
    "sample_list_1 = random.sample(range(1, 101), 80)\n",
    "\n",
    "sample_list_1"
   ]
  },
  {
   "cell_type": "markdown",
   "metadata": {},
   "source": [
    "#### Convert `sample_list_1` to a set called `set1`. Print the length of the set. Is its length still 80?"
   ]
  },
  {
   "cell_type": "code",
   "execution_count": 96,
   "metadata": {},
   "outputs": [
    {
     "data": {
      "text/plain": [
       "80"
      ]
     },
     "execution_count": 96,
     "metadata": {},
     "output_type": "execute_result"
    }
   ],
   "source": [
    "set1 = set(sample_list_1)\n",
    "len(set1)"
   ]
  },
  {
   "cell_type": "markdown",
   "metadata": {},
   "source": [
    "#### Create another list named `sample_list_2` with 80 random values.\n",
    "\n",
    "Requirements:\n",
    "\n",
    "* Each value is an integer falling between 0 and 100.\n",
    "* The values in the list don't have to be unique.\n",
    "\n",
    "*Hint: Use a FOR loop.*"
   ]
  },
  {
   "cell_type": "code",
   "execution_count": 97,
   "metadata": {},
   "outputs": [
    {
     "data": {
      "text/plain": [
       "[72,\n",
       " 50,\n",
       " 97,\n",
       " 34,\n",
       " 52,\n",
       " 13,\n",
       " 82,\n",
       " 50,\n",
       " 2,\n",
       " 42,\n",
       " 5,\n",
       " 1,\n",
       " 46,\n",
       " 68,\n",
       " 10,\n",
       " 94,\n",
       " 14,\n",
       " 1,\n",
       " 47,\n",
       " 1,\n",
       " 31,\n",
       " 46,\n",
       " 98,\n",
       " 43,\n",
       " 72,\n",
       " 6,\n",
       " 41,\n",
       " 61,\n",
       " 48,\n",
       " 54,\n",
       " 30,\n",
       " 85,\n",
       " 38,\n",
       " 16,\n",
       " 11,\n",
       " 86,\n",
       " 91,\n",
       " 56,\n",
       " 43,\n",
       " 28,\n",
       " 13,\n",
       " 31,\n",
       " 97,\n",
       " 39,\n",
       " 39,\n",
       " 4,\n",
       " 29,\n",
       " 2,\n",
       " 93,\n",
       " 41,\n",
       " 94,\n",
       " 73,\n",
       " 57,\n",
       " 95,\n",
       " 78,\n",
       " 14,\n",
       " 83,\n",
       " 25,\n",
       " 20,\n",
       " 61,\n",
       " 92,\n",
       " 16,\n",
       " 6,\n",
       " 16,\n",
       " 52,\n",
       " 9,\n",
       " 4,\n",
       " 33,\n",
       " 37,\n",
       " 85,\n",
       " 55,\n",
       " 49,\n",
       " 90,\n",
       " 46,\n",
       " 49,\n",
       " 69,\n",
       " 14,\n",
       " 71,\n",
       " 13,\n",
       " 55]"
      ]
     },
     "execution_count": 97,
     "metadata": {},
     "output_type": "execute_result"
    }
   ],
   "source": [
    "sample_list_2 = [random.randint(0,100) for i in range(80)]\n",
    "\n",
    "#for i in range(80):\n",
    "#    sample_list_2.append(i)\n",
    "   \n",
    "#random.sample(range(1, 101), 80)\n",
    "\n",
    "sample_list_2"
   ]
  },
  {
   "cell_type": "markdown",
   "metadata": {},
   "source": [
    "#### Convert `sample_list_2` to a set called `set2`. Print the length of the set. Is its length still 80?"
   ]
  },
  {
   "cell_type": "code",
   "execution_count": 98,
   "metadata": {},
   "outputs": [
    {
     "data": {
      "text/plain": [
       "54"
      ]
     },
     "execution_count": 98,
     "metadata": {},
     "output_type": "execute_result"
    }
   ],
   "source": [
    "set2 = set(sample_list_2)\n",
    "\n",
    "len(set2)"
   ]
  },
  {
   "cell_type": "markdown",
   "metadata": {},
   "source": [
    "#### Identify the elements present in `set1` but not in `set2`. Assign the elements to a new set named `set3`."
   ]
  },
  {
   "cell_type": "code",
   "execution_count": 99,
   "metadata": {},
   "outputs": [
    {
     "data": {
      "text/plain": [
       "{3,\n",
       " 8,\n",
       " 12,\n",
       " 15,\n",
       " 17,\n",
       " 19,\n",
       " 21,\n",
       " 22,\n",
       " 23,\n",
       " 26,\n",
       " 27,\n",
       " 32,\n",
       " 35,\n",
       " 36,\n",
       " 40,\n",
       " 45,\n",
       " 51,\n",
       " 53,\n",
       " 58,\n",
       " 59,\n",
       " 60,\n",
       " 62,\n",
       " 64,\n",
       " 65,\n",
       " 66,\n",
       " 67,\n",
       " 70,\n",
       " 74,\n",
       " 75,\n",
       " 76,\n",
       " 77,\n",
       " 80,\n",
       " 81,\n",
       " 84,\n",
       " 87,\n",
       " 96,\n",
       " 99,\n",
       " 100}"
      ]
     },
     "execution_count": 99,
     "metadata": {},
     "output_type": "execute_result"
    }
   ],
   "source": [
    "set3 = set1-set2\n",
    "set3"
   ]
  },
  {
   "cell_type": "markdown",
   "metadata": {},
   "source": [
    "#### Identify the elements present in `set2` but not in `set1`. Assign the elements to a new set named `set4`."
   ]
  },
  {
   "cell_type": "code",
   "execution_count": 100,
   "metadata": {},
   "outputs": [
    {
     "data": {
      "text/plain": [
       "{10, 20, 31, 34, 38, 39, 41, 42, 71, 78, 83, 97}"
      ]
     },
     "execution_count": 100,
     "metadata": {},
     "output_type": "execute_result"
    }
   ],
   "source": [
    "set4 = set2-set1\n",
    "set4"
   ]
  },
  {
   "cell_type": "markdown",
   "metadata": {},
   "source": [
    "#### Now Identify the elements shared between `set1` and `set2`. Assign the elements to a new set named `set5`."
   ]
  },
  {
   "cell_type": "code",
   "execution_count": 101,
   "metadata": {},
   "outputs": [
    {
     "data": {
      "text/plain": [
       "{1,\n",
       " 2,\n",
       " 4,\n",
       " 5,\n",
       " 6,\n",
       " 9,\n",
       " 11,\n",
       " 13,\n",
       " 14,\n",
       " 16,\n",
       " 25,\n",
       " 28,\n",
       " 29,\n",
       " 30,\n",
       " 33,\n",
       " 37,\n",
       " 43,\n",
       " 46,\n",
       " 47,\n",
       " 48,\n",
       " 49,\n",
       " 50,\n",
       " 52,\n",
       " 54,\n",
       " 55,\n",
       " 56,\n",
       " 57,\n",
       " 61,\n",
       " 68,\n",
       " 69,\n",
       " 72,\n",
       " 73,\n",
       " 82,\n",
       " 85,\n",
       " 86,\n",
       " 90,\n",
       " 91,\n",
       " 92,\n",
       " 93,\n",
       " 94,\n",
       " 95,\n",
       " 98}"
      ]
     },
     "execution_count": 101,
     "metadata": {},
     "output_type": "execute_result"
    }
   ],
   "source": [
    "set5 = set1 & set2\n",
    "set5"
   ]
  },
  {
   "cell_type": "markdown",
   "metadata": {},
   "source": [
    "#### What is the relationship among the following values:\n",
    "\n",
    "* len(set1)\n",
    "* len(set2)\n",
    "* len(set3)\n",
    "* len(set4)\n",
    "* len(set5)\n",
    "\n",
    "Use a math formular to represent that relationship. Test your formular with Python code."
   ]
  },
  {
   "cell_type": "code",
   "execution_count": 102,
   "metadata": {},
   "outputs": [
    {
     "name": "stdout",
     "output_type": "stream",
     "text": [
      "80\n",
      "54\n",
      "38\n",
      "12\n",
      "42\n"
     ]
    }
   ],
   "source": [
    "print(len(set1))\n",
    "print(len(set2))\n",
    "print(len(set3))\n",
    "print(len(set4))\n",
    "print(len(set5))\n"
   ]
  },
  {
   "cell_type": "markdown",
   "metadata": {},
   "source": [
    "#### Create an empty set called `set6`."
   ]
  },
  {
   "cell_type": "code",
   "execution_count": 103,
   "metadata": {},
   "outputs": [],
   "source": [
    "set6 = set()"
   ]
  },
  {
   "cell_type": "markdown",
   "metadata": {},
   "source": [
    "#### Add `set3` and `set5` to `set6` using the Python Set `update` method."
   ]
  },
  {
   "cell_type": "code",
   "execution_count": 104,
   "metadata": {},
   "outputs": [
    {
     "name": "stdout",
     "output_type": "stream",
     "text": [
      "0\n",
      "38\n",
      "80\n"
     ]
    }
   ],
   "source": [
    "print(len(set6))\n",
    "\n",
    "set6.update(set3)\n",
    "print(len(set6))\n",
    "\n",
    "set6.update(set5)\n",
    "print(len(set6))"
   ]
  },
  {
   "cell_type": "markdown",
   "metadata": {},
   "source": [
    "#### Check if `set1` and `set6` are equal."
   ]
  },
  {
   "cell_type": "code",
   "execution_count": 105,
   "metadata": {},
   "outputs": [
    {
     "data": {
      "text/plain": [
       "True"
      ]
     },
     "execution_count": 105,
     "metadata": {},
     "output_type": "execute_result"
    }
   ],
   "source": [
    "len(set1) == len(set6)"
   ]
  },
  {
   "cell_type": "markdown",
   "metadata": {},
   "source": [
    "#### Check if `set1` contains `set2` using the Python Set `issubset` method. Then check if `set1` contains `set3`.*"
   ]
  },
  {
   "cell_type": "code",
   "execution_count": 106,
   "metadata": {},
   "outputs": [
    {
     "name": "stdout",
     "output_type": "stream",
     "text": [
      "False\n",
      "False\n"
     ]
    }
   ],
   "source": [
    "print(set1.issubset(set2))\n",
    "\n",
    "print(set1.issubset(set3))"
   ]
  },
  {
   "cell_type": "markdown",
   "metadata": {},
   "source": [
    "#### Using the Python Set `union` method, aggregate `set3`, `set4`, and `set5`. Then aggregate `set1` and `set2`. \n",
    "\n",
    "#### Check if the aggregated values are equal."
   ]
  },
  {
   "cell_type": "code",
   "execution_count": 112,
   "metadata": {},
   "outputs": [
    {
     "name": "stdout",
     "output_type": "stream",
     "text": [
      "38\n",
      "38\n",
      "80\n",
      "54\n",
      "80\n"
     ]
    },
    {
     "data": {
      "text/plain": [
       "False"
      ]
     },
     "execution_count": 112,
     "metadata": {},
     "output_type": "execute_result"
    }
   ],
   "source": [
    "print(len(set3))\n",
    "set3.union(set4)\n",
    "print(len(set3))\n",
    "\n",
    "\n",
    "print(len(set1))\n",
    "print(len(set2))\n",
    "set1.union(set2)\n",
    "print(len(set1))\n",
    "\n",
    "len(set1) == len(set3)\n"
   ]
  },
  {
   "cell_type": "markdown",
   "metadata": {},
   "source": [
    "#### Using the `pop` method, remove the first element from `set1`."
   ]
  },
  {
   "cell_type": "code",
   "execution_count": 115,
   "metadata": {},
   "outputs": [
    {
     "name": "stdout",
     "output_type": "stream",
     "text": [
      "{2, 3, 4, 5, 6, 8, 9, 11, 12, 13, 14, 15, 16, 17, 19, 21, 22, 23, 25, 26, 27, 28, 29, 30, 32, 33, 35, 36, 37, 40, 43, 45, 46, 47, 48, 49, 50, 51, 52, 53, 54, 55, 56, 57, 58, 59, 60, 61, 62, 64, 65, 66, 67, 68, 69, 70, 72, 73, 74, 75, 76, 77, 80, 81, 82, 84, 85, 86, 87, 90, 91, 92, 93, 94, 95, 96, 98, 99, 100}\n",
      "{3, 4, 5, 6, 8, 9, 11, 12, 13, 14, 15, 16, 17, 19, 21, 22, 23, 25, 26, 27, 28, 29, 30, 32, 33, 35, 36, 37, 40, 43, 45, 46, 47, 48, 49, 50, 51, 52, 53, 54, 55, 56, 57, 58, 59, 60, 61, 62, 64, 65, 66, 67, 68, 69, 70, 72, 73, 74, 75, 76, 77, 80, 81, 82, 84, 85, 86, 87, 90, 91, 92, 93, 94, 95, 96, 98, 99, 100}\n"
     ]
    }
   ],
   "source": [
    "print(set1)\n",
    "\n",
    "set1.pop()\n",
    "\n",
    "print(set1)\n"
   ]
  },
  {
   "cell_type": "markdown",
   "metadata": {},
   "source": [
    "#### Remove every element in the following list from `set1` if they are present in the set. Print the remaining elements.\n",
    "\n",
    "```\n",
    "list_to_remove = [1, 9, 11, 19, 21, 29, 31, 39, 41, 49, 51, 59, 61, 69, 71, 79, 81, 89, 91, 99]\n",
    "```"
   ]
  },
  {
   "cell_type": "code",
   "execution_count": 116,
   "metadata": {},
   "outputs": [
    {
     "name": "stdout",
     "output_type": "stream",
     "text": [
      "[1, 31, 39, 41, 71, 79, 89]\n"
     ]
    }
   ],
   "source": [
    "list_to_remove = [1, 9, 11, 19, 21, 29, 31, 39, 41, 49, 51, 59, 61, 69, 71, 79, 81, 89, 91, 99]\n",
    "\n",
    "set1\n",
    "\n",
    "for i in set1:\n",
    "    for j in list_to_remove:\n",
    "        if i==j:\n",
    "            list_to_remove.remove(j)\n",
    "\n",
    "print(list_to_remove)"
   ]
  }
 ],
 "metadata": {
  "kernelspec": {
   "display_name": "Python 3",
   "language": "python",
   "name": "python3"
  },
  "language_info": {
   "codemirror_mode": {
    "name": "ipython",
    "version": 3
   },
   "file_extension": ".py",
   "mimetype": "text/x-python",
   "name": "python",
   "nbconvert_exporter": "python",
   "pygments_lexer": "ipython3",
   "version": "3.7.4"
  }
 },
 "nbformat": 4,
 "nbformat_minor": 2
}
